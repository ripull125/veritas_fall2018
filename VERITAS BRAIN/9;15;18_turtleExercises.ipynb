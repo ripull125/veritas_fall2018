{
 "cells": [
  {
   "cell_type": "markdown",
   "metadata": {},
   "source": [
    "### Write a program that prints We like Python's turtles! 100 times."
   ]
  },
  {
   "cell_type": "code",
   "execution_count": 1,
   "metadata": {},
   "outputs": [
    {
     "name": "stdout",
     "output_type": "stream",
     "text": [
      "We like Python's turtles\n",
      "We like Python's turtles\n",
      "We like Python's turtles\n",
      "We like Python's turtles\n",
      "We like Python's turtles\n",
      "We like Python's turtles\n",
      "We like Python's turtles\n",
      "We like Python's turtles\n",
      "We like Python's turtles\n",
      "We like Python's turtles\n",
      "We like Python's turtles\n",
      "We like Python's turtles\n",
      "We like Python's turtles\n",
      "We like Python's turtles\n",
      "We like Python's turtles\n",
      "We like Python's turtles\n",
      "We like Python's turtles\n",
      "We like Python's turtles\n",
      "We like Python's turtles\n",
      "We like Python's turtles\n",
      "We like Python's turtles\n",
      "We like Python's turtles\n",
      "We like Python's turtles\n",
      "We like Python's turtles\n",
      "We like Python's turtles\n",
      "We like Python's turtles\n",
      "We like Python's turtles\n",
      "We like Python's turtles\n",
      "We like Python's turtles\n",
      "We like Python's turtles\n",
      "We like Python's turtles\n",
      "We like Python's turtles\n",
      "We like Python's turtles\n",
      "We like Python's turtles\n",
      "We like Python's turtles\n",
      "We like Python's turtles\n",
      "We like Python's turtles\n",
      "We like Python's turtles\n",
      "We like Python's turtles\n",
      "We like Python's turtles\n",
      "We like Python's turtles\n",
      "We like Python's turtles\n",
      "We like Python's turtles\n",
      "We like Python's turtles\n",
      "We like Python's turtles\n",
      "We like Python's turtles\n",
      "We like Python's turtles\n",
      "We like Python's turtles\n",
      "We like Python's turtles\n",
      "We like Python's turtles\n",
      "We like Python's turtles\n",
      "We like Python's turtles\n",
      "We like Python's turtles\n",
      "We like Python's turtles\n",
      "We like Python's turtles\n",
      "We like Python's turtles\n",
      "We like Python's turtles\n",
      "We like Python's turtles\n",
      "We like Python's turtles\n",
      "We like Python's turtles\n",
      "We like Python's turtles\n",
      "We like Python's turtles\n",
      "We like Python's turtles\n",
      "We like Python's turtles\n",
      "We like Python's turtles\n",
      "We like Python's turtles\n",
      "We like Python's turtles\n",
      "We like Python's turtles\n",
      "We like Python's turtles\n",
      "We like Python's turtles\n",
      "We like Python's turtles\n",
      "We like Python's turtles\n",
      "We like Python's turtles\n",
      "We like Python's turtles\n",
      "We like Python's turtles\n",
      "We like Python's turtles\n",
      "We like Python's turtles\n",
      "We like Python's turtles\n",
      "We like Python's turtles\n",
      "We like Python's turtles\n",
      "We like Python's turtles\n",
      "We like Python's turtles\n",
      "We like Python's turtles\n",
      "We like Python's turtles\n",
      "We like Python's turtles\n",
      "We like Python's turtles\n",
      "We like Python's turtles\n",
      "We like Python's turtles\n",
      "We like Python's turtles\n",
      "We like Python's turtles\n",
      "We like Python's turtles\n",
      "We like Python's turtles\n",
      "We like Python's turtles\n",
      "We like Python's turtles\n",
      "We like Python's turtles\n",
      "We like Python's turtles\n",
      "We like Python's turtles\n",
      "We like Python's turtles\n",
      "We like Python's turtles\n",
      "We like Python's turtles\n"
     ]
    }
   ],
   "source": [
    "for v in range(100):\n",
    "    print(\"We like Python's turtles\")"
   ]
  },
  {
   "cell_type": "markdown",
   "metadata": {},
   "source": [
    "#### Write a program that uses a for loop to print\n",
    "##### One of the months of the year is January\n",
    "##### One of the months of the year is February\n",
    "##### One of the months of the year is March\n",
    "##### etc ...\n"
   ]
  },
  {
   "cell_type": "code",
   "execution_count": 3,
   "metadata": {},
   "outputs": [
    {
     "name": "stdout",
     "output_type": "stream",
     "text": [
      "One of the months of the year is January\n",
      "One of the months of the year is February\n",
      "One of the months of the year is March\n",
      "One of the months of the year is April\n",
      "One of the months of the year is May\n",
      "One of the months of the year is June\n",
      "One of the months of the year is July\n",
      "One of the months of the year is August\n",
      "One of the months of the year is September\n",
      "One of the months of the year is November\n",
      "One of the months of the year is December\n"
     ]
    }
   ],
   "source": [
    "for month in ['January', 'February', 'March', 'April', 'May', 'June', 'July', 'August', 'September', 'November', 'December']:\n",
    "    print(\"One of the months of the year is\", month)\n"
   ]
  },
  {
   "cell_type": "markdown",
   "metadata": {},
   "source": [
    "### Assume you have a list of numbers 12, 10, 32, 3, 66, 17, 42, 99, 20\n",
    "\n",
    "#### Write a loop that prints each of the numbers on a new line.\n",
    "#### Write a loop that prints each number and its square on a new line."
   ]
  },
  {
   "cell_type": "code",
   "execution_count": 7,
   "metadata": {},
   "outputs": [
    {
     "ename": "TypeError",
     "evalue": "'builtin_function_or_method' object is not subscriptable",
     "output_type": "error",
     "traceback": [
      "\u001b[0;31m---------------------------------------------------------------------------\u001b[0m",
      "\u001b[0;31mTypeError\u001b[0m                                 Traceback (most recent call last)",
      "\u001b[0;32m<ipython-input-7-1e0778bb3f1d>\u001b[0m in \u001b[0;36m<module>\u001b[0;34m()\u001b[0m\n\u001b[1;32m      1\u001b[0m \u001b[0mset\u001b[0m \u001b[0;34m=\u001b[0m \u001b[0;34m[\u001b[0m\u001b[0;36m12\u001b[0m\u001b[0;34m,\u001b[0m \u001b[0;36m10\u001b[0m\u001b[0;34m,\u001b[0m \u001b[0;36m32\u001b[0m\u001b[0;34m,\u001b[0m \u001b[0;36m3\u001b[0m\u001b[0;34m,\u001b[0m \u001b[0;36m66\u001b[0m\u001b[0;34m,\u001b[0m \u001b[0;36m17\u001b[0m\u001b[0;34m,\u001b[0m \u001b[0;36m42\u001b[0m\u001b[0;34m,\u001b[0m \u001b[0;36m99\u001b[0m\u001b[0;34m,\u001b[0m \u001b[0;36m20\u001b[0m\u001b[0;34m]\u001b[0m\u001b[0;34m\u001b[0m\u001b[0m\n\u001b[1;32m      2\u001b[0m \u001b[0;32mfor\u001b[0m \u001b[0mset\u001b[0m \u001b[0;32min\u001b[0m \u001b[0mrange\u001b[0m \u001b[0;34m(\u001b[0m\u001b[0;36m9\u001b[0m\u001b[0;34m)\u001b[0m\u001b[0;34m:\u001b[0m\u001b[0;34m\u001b[0m\u001b[0m\n\u001b[0;32m----> 3\u001b[0;31m     \u001b[0mprint\u001b[0m\u001b[0;34m[\u001b[0m\u001b[0mset\u001b[0m\u001b[0;34m]\u001b[0m\u001b[0;34m\u001b[0m\u001b[0m\n\u001b[0m",
      "\u001b[0;31mTypeError\u001b[0m: 'builtin_function_or_method' object is not subscriptable"
     ]
    }
   ],
   "source": [
    "set = [12, 10, 32, 3, 66, 17, 42, 99, 20]\n",
    "for set in range (9):\n",
    "    print[set]"
   ]
  },
  {
   "cell_type": "code",
   "execution_count": null,
   "metadata": {},
   "outputs": [],
   "source": []
  }
 ],
 "metadata": {
  "kernelspec": {
   "display_name": "Python 3",
   "language": "python",
   "name": "python3"
  },
  "language_info": {
   "codemirror_mode": {
    "name": "ipython",
    "version": 3
   },
   "file_extension": ".py",
   "mimetype": "text/x-python",
   "name": "python",
   "nbconvert_exporter": "python",
   "pygments_lexer": "ipython3",
   "version": "3.6.5"
  }
 },
 "nbformat": 4,
 "nbformat_minor": 2
}
