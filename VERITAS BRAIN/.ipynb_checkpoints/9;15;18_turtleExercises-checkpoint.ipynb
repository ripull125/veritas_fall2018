{
 "cells": [
  {
   "cell_type": "markdown",
   "metadata": {},
   "source": [
    "### Write a program that prints We like Python's turtles! 100 times."
   ]
  },
  {
   "cell_type": "code",
   "execution_count": 1,
   "metadata": {},
   "outputs": [
    {
     "name": "stdout",
     "output_type": "stream",
     "text": [
      "We like Python's turtles\n",
      "We like Python's turtles\n",
      "We like Python's turtles\n",
      "We like Python's turtles\n",
      "We like Python's turtles\n",
      "We like Python's turtles\n",
      "We like Python's turtles\n",
      "We like Python's turtles\n",
      "We like Python's turtles\n",
      "We like Python's turtles\n",
      "We like Python's turtles\n",
      "We like Python's turtles\n",
      "We like Python's turtles\n",
      "We like Python's turtles\n",
      "We like Python's turtles\n",
      "We like Python's turtles\n",
      "We like Python's turtles\n",
      "We like Python's turtles\n",
      "We like Python's turtles\n",
      "We like Python's turtles\n",
      "We like Python's turtles\n",
      "We like Python's turtles\n",
      "We like Python's turtles\n",
      "We like Python's turtles\n",
      "We like Python's turtles\n",
      "We like Python's turtles\n",
      "We like Python's turtles\n",
      "We like Python's turtles\n",
      "We like Python's turtles\n",
      "We like Python's turtles\n",
      "We like Python's turtles\n",
      "We like Python's turtles\n",
      "We like Python's turtles\n",
      "We like Python's turtles\n",
      "We like Python's turtles\n",
      "We like Python's turtles\n",
      "We like Python's turtles\n",
      "We like Python's turtles\n",
      "We like Python's turtles\n",
      "We like Python's turtles\n",
      "We like Python's turtles\n",
      "We like Python's turtles\n",
      "We like Python's turtles\n",
      "We like Python's turtles\n",
      "We like Python's turtles\n",
      "We like Python's turtles\n",
      "We like Python's turtles\n",
      "We like Python's turtles\n",
      "We like Python's turtles\n",
      "We like Python's turtles\n",
      "We like Python's turtles\n",
      "We like Python's turtles\n",
      "We like Python's turtles\n",
      "We like Python's turtles\n",
      "We like Python's turtles\n",
      "We like Python's turtles\n",
      "We like Python's turtles\n",
      "We like Python's turtles\n",
      "We like Python's turtles\n",
      "We like Python's turtles\n",
      "We like Python's turtles\n",
      "We like Python's turtles\n",
      "We like Python's turtles\n",
      "We like Python's turtles\n",
      "We like Python's turtles\n",
      "We like Python's turtles\n",
      "We like Python's turtles\n",
      "We like Python's turtles\n",
      "We like Python's turtles\n",
      "We like Python's turtles\n",
      "We like Python's turtles\n",
      "We like Python's turtles\n",
      "We like Python's turtles\n",
      "We like Python's turtles\n",
      "We like Python's turtles\n",
      "We like Python's turtles\n",
      "We like Python's turtles\n",
      "We like Python's turtles\n",
      "We like Python's turtles\n",
      "We like Python's turtles\n",
      "We like Python's turtles\n",
      "We like Python's turtles\n",
      "We like Python's turtles\n",
      "We like Python's turtles\n",
      "We like Python's turtles\n",
      "We like Python's turtles\n",
      "We like Python's turtles\n",
      "We like Python's turtles\n",
      "We like Python's turtles\n",
      "We like Python's turtles\n",
      "We like Python's turtles\n",
      "We like Python's turtles\n",
      "We like Python's turtles\n",
      "We like Python's turtles\n",
      "We like Python's turtles\n",
      "We like Python's turtles\n",
      "We like Python's turtles\n",
      "We like Python's turtles\n",
      "We like Python's turtles\n",
      "We like Python's turtles\n"
     ]
    }
   ],
   "source": [
    "for v in range(100):\n",
    "    print(\"We like Python's turtles\")"
   ]
  },
  {
   "cell_type": "markdown",
   "metadata": {},
   "source": [
    "#### Write a program that uses a for loop to print\n",
    "##### One of the months of the year is January\n",
    "##### One of the months of the year is February\n",
    "##### One of the months of the year is March\n",
    "##### etc ...\n"
   ]
  },
  {
   "cell_type": "code",
   "execution_count": 3,
   "metadata": {},
   "outputs": [
    {
     "name": "stdout",
     "output_type": "stream",
     "text": [
      "One of the months of the year is January\n",
      "One of the months of the year is February\n",
      "One of the months of the year is March\n",
      "One of the months of the year is April\n",
      "One of the months of the year is May\n",
      "One of the months of the year is June\n",
      "One of the months of the year is July\n",
      "One of the months of the year is August\n",
      "One of the months of the year is September\n",
      "One of the months of the year is November\n",
      "One of the months of the year is December\n"
     ]
    }
   ],
   "source": [
    "for month in ['January', 'February', 'March', 'April', 'May', 'June', 'July', 'August', 'September', 'November', 'December']:\n",
    "    print(\"One of the months of the year is\", month)\n"
   ]
  },
  {
   "cell_type": "markdown",
   "metadata": {},
   "source": [
    "### Assume you have a list of numbers 12, 10, 32, 3, 66, 17, 42, 99, 20\n",
    "\n",
    "#### Write a loop that prints each of the numbers on a new line.\n",
    "#### Write a loop that prints each number and its square on a new line."
   ]
  },
  {
   "cell_type": "code",
   "execution_count": 14,
   "metadata": {},
   "outputs": [
    {
     "name": "stdout",
     "output_type": "stream",
     "text": [
      "12\n",
      "10\n",
      "32\n",
      "3\n",
      "66\n",
      "17\n",
      "42\n",
      "99\n",
      "20\n"
     ]
    }
   ],
   "source": [
    "\n",
    "for i in [12, 10, 32, 3, 66, 17, 42, 99, 20]:\n",
    "    print(i)"
   ]
  },
  {
   "cell_type": "code",
   "execution_count": 15,
   "metadata": {},
   "outputs": [
    {
     "name": "stdout",
     "output_type": "stream",
     "text": [
      "12 144\n",
      "10 100\n",
      "32 1024\n",
      "3 9\n",
      "66 4356\n",
      "17 289\n",
      "42 1764\n",
      "99 9801\n",
      "20 400\n"
     ]
    }
   ],
   "source": [
    "for i in [12, 10, 32, 3, 66, 17, 42, 99, 20]:\n",
    "    print(i, i**2)"
   ]
  },
  {
   "cell_type": "code",
   "execution_count": 16,
   "metadata": {},
   "outputs": [
    {
     "name": "stdout",
     "output_type": "stream",
     "text": [
      "12 144\n",
      "10 100\n",
      "32 1024\n",
      "3 4\n",
      "66 4356\n",
      "17 18\n",
      "42 1764\n",
      "99 100\n",
      "20 400\n"
     ]
    }
   ],
   "source": [
    "for i in [12, 10, 32, 3, 66, 17, 42, 99, 20]:\n",
    "    if i % 2 == 0:\n",
    "        print(i, i**2)\n",
    "    if i % 2 != 0:\n",
    "        print(i, i+1)"
   ]
  },
  {
   "cell_type": "code",
   "execution_count": null,
   "metadata": {},
   "outputs": [],
   "source": []
  }
 ],
 "metadata": {
  "kernelspec": {
   "display_name": "Python 3",
   "language": "python",
   "name": "python3"
  },
  "language_info": {
   "codemirror_mode": {
    "name": "ipython",
    "version": 3
   },
   "file_extension": ".py",
   "mimetype": "text/x-python",
   "name": "python",
   "nbconvert_exporter": "python",
   "pygments_lexer": "ipython3",
   "version": "3.6.5"
  }
 },
 "nbformat": 4,
 "nbformat_minor": 2
}
