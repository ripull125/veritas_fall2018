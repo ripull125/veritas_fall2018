{
 "cells": [
  {
   "cell_type": "markdown",
   "metadata": {},
   "source": [
    "## how to define a class"
   ]
  },
  {
   "cell_type": "code",
   "execution_count": 1,
   "metadata": {},
   "outputs": [],
   "source": [
    "class Point:\n",
    "    \"\"\" Point class\"\"\"\n",
    "\n",
    "    def __init__(self):\n",
    "        \"\"\" Create a new point at the origin \"\"\"\n",
    "        self.x = 0\n",
    "        self.y = 0"
   ]
  },
  {
   "cell_type": "markdown",
   "metadata": {},
   "source": [
    "## how to use (call/instantiate) a class"
   ]
  },
  {
   "cell_type": "code",
   "execution_count": 3,
   "metadata": {},
   "outputs": [
    {
     "name": "stdout",
     "output_type": "stream",
     "text": [
      "0\n"
     ]
    }
   ],
   "source": [
    "#object\n",
    "p = Point()\n",
    "\n",
    "#acces to states/varaibles\n",
    "print(p.x)"
   ]
  },
  {
   "cell_type": "code",
   "execution_count": 5,
   "metadata": {},
   "outputs": [
    {
     "name": "stdout",
     "output_type": "stream",
     "text": [
      "0\n"
     ]
    }
   ],
   "source": [
    "q = Point()\n",
    "print(q.x)"
   ]
  },
  {
   "cell_type": "markdown",
   "metadata": {},
   "source": [
    "## fraction class remember to start classes with a capital letter"
   ]
  },
  {
   "cell_type": "code",
   "execution_count": 11,
   "metadata": {},
   "outputs": [
    {
     "name": "stdout",
     "output_type": "stream",
     "text": [
      "10\n"
     ]
    }
   ],
   "source": [
    "def gcd(m,n):\n",
    "    while m%n != 0:\n",
    "        oldm = m\n",
    "        oldn = n\n",
    "        m = oldn\n",
    "        n = oldm%oldn\n",
    "    return n\n",
    "print(gcd(20,10))"
   ]
  },
  {
   "cell_type": "code",
   "execution_count": 26,
   "metadata": {},
   "outputs": [
    {
     "ename": "SyntaxError",
     "evalue": "can't assign to operator (<ipython-input-26-eb29dd351cef>, line 39)",
     "output_type": "error",
     "traceback": [
      "\u001b[0;36m  File \u001b[0;32m\"<ipython-input-26-eb29dd351cef>\"\u001b[0;36m, line \u001b[0;32m39\u001b[0m\n\u001b[0;31m    newnum = self.num*other.den < self.den*other.num or self.num*other.den = self.den*other.num\u001b[0m\n\u001b[0m            ^\u001b[0m\n\u001b[0;31mSyntaxError\u001b[0m\u001b[0;31m:\u001b[0m can't assign to operator\n"
     ]
    }
   ],
   "source": [
    "class Fraction(object):\n",
    "\n",
    "    def __init__(self,top,bottom):\n",
    "\n",
    "        self.num = top\n",
    "        self.den = bottom\n",
    "    def show(self):\n",
    "        print(self.num, \"/\", self.den)\n",
    "    def __str__(self):\n",
    "        return str(self.num)+\"/\"+str(self.den)\n",
    "    def __add__(self,otherfraction):\n",
    "        newnum = self.num*otherfraction.den + self.den*otherfraction.num\n",
    "        newden = self.den * otherfraction.den\n",
    "        common = gcd(newnum,newden)\n",
    "        return Fraction(newnum//common,newden//common)\n",
    "    def __sub__(self, otherfraction):\n",
    "        newnum = self.num*otherfraction.den - self.den*otherfraction.num\n",
    "        newden = self.den * otherfraction.den\n",
    "        common = gcd(newnum,newden)\n",
    "        return Fraction(newnum/common,newden/common)\n",
    "    def __eq__(self, other):\n",
    "        firstnum = self.num * other.den\n",
    "        secondnum = other.num * self.den\n",
    "        return firstnum == secondnum\n",
    "    def getNum(self, myfraction):\n",
    "        print(myfraction.num)\n",
    "    def getden(self, myfraction):\n",
    "        print(myfraction.den)\n",
    "    def __mul__(self, myf, other):\n",
    "        newnum = myf.num*other.num\n",
    "        newden = myf.den*other.den\n",
    "        print(newnum, \"/\", newden)\n",
    "    def __gt__(self, myf, other):\n",
    "        newnum = self.num*otherfraction.den > self.den*otherfraction.num\n",
    "        newden = self.den * otherfraction.den\n",
    "        common = gcd(newnum,newden)\n",
    "        print (newnum)\n",
    "    def __ge__(self, myf, other):\n",
    "        newnum = self.num*other.den < self.den*other.num or self.num*other.den = self.den*other.num\n",
    "        newden = self.den * otherfraction.den\n",
    "        common = gcd(newnum,newden)\n",
    "        print (newnum)"
   ]
  },
  {
   "cell_type": "markdown",
   "metadata": {},
   "source": [
    "## Using the fraction class"
   ]
  },
  {
   "cell_type": "code",
   "execution_count": 20,
   "metadata": {
    "scrolled": false
   },
   "outputs": [
    {
     "name": "stdout",
     "output_type": "stream",
     "text": [
      "2 / 3\n",
      "2/3\n",
      "11/12\n",
      "False\n",
      "2\n",
      "3\n",
      "2 / 12\n",
      "True\n"
     ]
    }
   ],
   "source": [
    "myfraction = Fraction(2,3)\n",
    "otherfraction = Fraction(1,4)\n",
    "myfraction.show()\n",
    "print(myfraction)\n",
    "print(myfraction + otherfraction)\n",
    "print(myfraction == otherfraction)\n",
    "myfraction.getNum(myfraction)\n",
    "myfraction.getden(myfraction)\n",
    "myfraction.__mul__(myfraction,otherfraction)\n",
    "myfraction.__gt__(myfraction, otherfraction)\n",
    "myfraction.__ge__(myfraction, otherfraction)"
   ]
  },
  {
   "cell_type": "markdown",
   "metadata": {},
   "source": [
    "## making the monster class"
   ]
  },
  {
   "cell_type": "code",
   "execution_count": 5,
   "metadata": {},
   "outputs": [],
   "source": [
    " class Monster(object):\n",
    "        def __init__(self, name):\n",
    "            self.name = name\n",
    "        def show(self):\n",
    "            print('My name is', self.name)\n",
    "            \n"
   ]
  },
  {
   "cell_type": "markdown",
   "metadata": {},
   "source": [
    "## Using the monster class"
   ]
  },
  {
   "cell_type": "code",
   "execution_count": 20,
   "metadata": {},
   "outputs": [
    {
     "name": "stdout",
     "output_type": "stream",
     "text": [
      "My name is creeper\n"
     ]
    }
   ],
   "source": [
    "creeper = Monster('creeper')\n",
    "creeper.show() # --> My name is creeper"
   ]
  },
  {
   "cell_type": "code",
   "execution_count": 21,
   "metadata": {},
   "outputs": [
    {
     "name": "stdout",
     "output_type": "stream",
     "text": [
      "My name is endermen\n"
     ]
    }
   ],
   "source": [
    "endermen = Monster('endermen')  |\n",
    "endermen.show()"
   ]
  },
  {
   "cell_type": "markdown",
   "metadata": {},
   "source": [
    "## bit more of fraction class"
   ]
  },
  {
   "cell_type": "code",
   "execution_count": 16,
   "metadata": {},
   "outputs": [
    {
     "name": "stdout",
     "output_type": "stream",
     "text": [
      "1.0/4.0\n"
     ]
    }
   ],
   "source": [
    "f1=Fraction(1,2)\n",
    "f2=Fraction(1,4)\n",
    "f3=f1-f2\n",
    "print(f3)"
   ]
  },
  {
   "cell_type": "code",
   "execution_count": 30,
   "metadata": {},
   "outputs": [
    {
     "data": {
      "text/plain": [
       "False"
      ]
     },
     "execution_count": 30,
     "metadata": {},
     "output_type": "execute_result"
    }
   ],
   "source": [
    "myfraction == otherfraction"
   ]
  }
 ],
 "metadata": {
  "kernelspec": {
   "display_name": "Python 3",
   "language": "python",
   "name": "python3"
  },
  "language_info": {
   "codemirror_mode": {
    "name": "ipython",
    "version": 3
   },
   "file_extension": ".py",
   "mimetype": "text/x-python",
   "name": "python",
   "nbconvert_exporter": "python",
   "pygments_lexer": "ipython3",
   "version": "3.6.5"
  }
 },
 "nbformat": 4,
 "nbformat_minor": 2
}
