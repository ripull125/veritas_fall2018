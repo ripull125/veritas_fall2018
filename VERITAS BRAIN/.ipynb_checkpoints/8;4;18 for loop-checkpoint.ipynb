{
 "cells": [
  {
   "cell_type": "markdown",
   "metadata": {},
   "source": [
    "# 8.2 for loop revisited"
   ]
  },
  {
   "cell_type": "code",
   "execution_count": 1,
   "metadata": {},
   "outputs": [
    {
     "name": "stdout",
     "output_type": "stream",
     "text": [
      "Hi Joe Please come to my party on Saturday\n",
      "Hi Amy Please come to my party on Saturday\n",
      "Hi Brad Please come to my party on Saturday\n",
      "Hi Angelina Please come to my party on Saturday\n",
      "Hi Zuki Please come to my party on Saturday\n",
      "Hi Thandi Please come to my party on Saturday\n",
      "Hi Paris Please come to my party on Saturday\n"
     ]
    }
   ],
   "source": [
    "for f in [\"Joe\", \"Amy\", \"Brad\", \"Angelina\", \"Zuki\", \"Thandi\", \"Paris\"]:\n",
    "    print(\"Hi\", f, \"Please come to my party on Saturday\")"
   ]
  },
  {
   "cell_type": "markdown",
   "metadata": {},
   "source": [
    "## You can put a for loop inside a function"
   ]
  },
  {
   "cell_type": "code",
   "execution_count": 2,
   "metadata": {},
   "outputs": [
    {
     "name": "stdout",
     "output_type": "stream",
     "text": [
      "10\n",
      "500500\n"
     ]
    }
   ],
   "source": [
    "def sumTo(aBound):\n",
    "    theSum = 0\n",
    "    for aNumber in range(1, aBound + 1):\n",
    "        theSum = theSum + aNumber\n",
    "\n",
    "    return theSum\n",
    "\n",
    "print(sumTo(4))\n",
    "\n",
    "print(sumTo(1000))"
   ]
  },
  {
   "cell_type": "code",
   "execution_count": null,
   "metadata": {},
   "outputs": [],
   "source": []
  }
 ],
 "metadata": {
  "kernelspec": {
   "display_name": "Python 3",
   "language": "python",
   "name": "python3"
  },
  "language_info": {
   "codemirror_mode": {
    "name": "ipython",
    "version": 3
   },
   "file_extension": ".py",
   "mimetype": "text/x-python",
   "name": "python",
   "nbconvert_exporter": "python",
   "pygments_lexer": "ipython3",
   "version": "3.6.5"
  }
 },
 "nbformat": 4,
 "nbformat_minor": 2
}
