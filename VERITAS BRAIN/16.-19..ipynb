{
 "cells": [
  {
   "cell_type": "markdown",
   "metadata": {},
   "source": [
    "# 16."
   ]
  },
  {
   "cell_type": "code",
   "execution_count": 7,
   "metadata": {},
   "outputs": [
    {
     "name": "stdout",
     "output_type": "stream",
     "text": [
      "<bound method Random.randint of <random.Random object at 0x7f925885be18>>\n",
      "<bound method Random.randint of <random.Random object at 0x7f925885be18>>\n",
      "<bound method Random.randint of <random.Random object at 0x7f925885be18>>\n",
      "<bound method Random.randint of <random.Random object at 0x7f925885be18>>\n",
      "<bound method Random.randint of <random.Random object at 0x7f925885be18>>\n",
      "<bound method Random.randint of <random.Random object at 0x7f925885be18>>\n",
      "<bound method Random.randint of <random.Random object at 0x7f925885be18>>\n",
      "<bound method Random.randint of <random.Random object at 0x7f925885be18>>\n",
      "<bound method Random.randint of <random.Random object at 0x7f925885be18>>\n",
      "<bound method Random.randint of <random.Random object at 0x7f925885be18>>\n"
     ]
    }
   ],
   "source": [
    "import random\n",
    "\n",
    "n = random.randint\n",
    "for x in range(10):\n",
    "    print(n)\n",
    "    "
   ]
  },
  {
   "cell_type": "code",
   "execution_count": null,
   "metadata": {},
   "outputs": [],
   "source": []
  }
 ],
 "metadata": {
  "kernelspec": {
   "display_name": "Python 3",
   "language": "python",
   "name": "python3"
  },
  "language_info": {
   "codemirror_mode": {
    "name": "ipython",
    "version": 3
   },
   "file_extension": ".py",
   "mimetype": "text/x-python",
   "name": "python",
   "nbconvert_exporter": "python",
   "pygments_lexer": "ipython3",
   "version": "3.6.5"
  }
 },
 "nbformat": 4,
 "nbformat_minor": 2
}
