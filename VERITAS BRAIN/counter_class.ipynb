{
 "cells": [
  {
   "cell_type": "markdown",
   "metadata": {},
   "source": [
    "# 1."
   ]
  },
  {
   "cell_type": "code",
   "execution_count": 5,
   "metadata": {},
   "outputs": [],
   "source": [
    "import time\n",
    "class Counter(object):\n",
    "    def __init__(self, hr, min, sec): \n",
    "        self.hr = hr\n",
    "        self.min = min\n",
    "        self.sec = sec\n",
    "    def pushUp(self):\n",
    "        pass\n",
    "    \n",
    "    def pushDown(self):\n",
    "        self.sec+=1\n",
    "        if self.sec == 60:\n",
    "            self.sec = 0\n",
    "            self.min+=1\n",
    "        if self.min == 60:\n",
    "            self.min = 0\n",
    "            self.hr+=1\n",
    "    \n",
    "    def diplay(self):\n",
    "        print(self.hr, \":\", self.min, \":\", self.sec)\n",
    "    \n",
    "    def __str__(self):\n",
    "        return str(self.hr)+\":\"+str(self.min)+str(self.sec)\n",
    "    \n",
    "    def reset(self):\n",
    "        self.sec = 0\n",
    "        self.min =0\n",
    "        self.hr = 0\n",
    "        \n",
    "    "
   ]
  },
  {
   "cell_type": "markdown",
   "metadata": {},
   "source": [
    "# 2."
   ]
  },
  {
   "cell_type": "code",
   "execution_count": 6,
   "metadata": {},
   "outputs": [],
   "source": [
    "import time\n",
    "class Time:\n",
    "    def time(self, hr, min, sec):\n",
    "        self.hr = hr\n",
    "        self.min = min\n",
    "        self.sec = sec\n",
    "        self.ts = sec\n",
    "    def hr(self):\n",
    "        self.hr = int(self.min/60)\n",
    "        return self.hr\n",
    "    def min(self):\n",
    "        self.min = int(self.sec/60)\n",
    "        return self.min\n",
    "    def sec(self):\n",
    "        if self.sec  \n",
    "        return self.sec\n",
    "    def numSec(self, other):\n",
    "        if self.sec>other:\n",
    "            resulta = self.sec-other\n",
    "        if self.sec<other:\n",
    "            resultb = other-self.sec\n",
    "    def isAM(self):\n",
    "        pass\n",
    "    def isPM(self):\n",
    "        pass\n",
    "    def comparable(self,other):\n",
    "        pass\n",
    "    def toString(self):\n",
    "        pass\n",
    "        "
   ]
  },
  {
   "cell_type": "markdown",
   "metadata": {},
   "source": [
    "# 3."
   ]
  },
  {
   "cell_type": "code",
   "execution_count": null,
   "metadata": {},
   "outputs": [],
   "source": [
    "class LineSegment:\n",
    "    def linesegment(self, pta, ptb):\n",
    "        pass\n",
    "    def EPA(self):\n",
    "        pass\n",
    "    def EPB(self):\n",
    "        pass\n",
    "    def length(self):\n",
    "        pass\n",
    "    def toStr(self):\n",
    "        pass\n",
    "    def isV(self):\n",
    "        pass\n",
    "    def isH(self):\n",
    "        pass\n",
    "    def isP(self,other):\n",
    "        pass\n",
    "    def intersects(self, other):\n",
    "        pass\n",
    "    def bisects(self):\n",
    "        pass\n",
    "    def shift(xInc, yInc):\n",
    "        pass\n",
    "    def midpoint():"
   ]
  }
 ],
 "metadata": {
  "kernelspec": {
   "display_name": "Python 3",
   "language": "python",
   "name": "python3"
  },
  "language_info": {
   "codemirror_mode": {
    "name": "ipython",
    "version": 3
   },
   "file_extension": ".py",
   "mimetype": "text/x-python",
   "name": "python",
   "nbconvert_exporter": "python",
   "pygments_lexer": "ipython3",
   "version": "3.6.5"
  }
 },
 "nbformat": 4,
 "nbformat_minor": 2
}
